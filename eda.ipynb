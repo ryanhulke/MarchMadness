{
 "cells": [
  {
   "cell_type": "markdown",
   "metadata": {},
   "source": [
    "# Exploratory Data Analysis"
   ]
  },
  {
   "cell_type": "markdown",
   "metadata": {},
   "source": [
    "### Questions to answer:\n",
    "- what features to I want to test for predictivity?\n",
    "    - win percentage, SOS, 2FG%, 3FG%, 3PA%, FT%, FTM/possession, points/possession, blocks, steals, TO/possession and allowed for all these stats\n",
    "    - momentum: how have you performed lately?\n",
    "    - home/away/neutral\n",
    "    - conference\n",
    "    - experience and size (pull off of ESPN or something)\n",
    "    - pace\n",
    "\n",
    "- which features specifically predict for playoffs?\n",
    "- which features are necessary to encode the performance of a team in all environments?\n",
    "\n",
    "\n",
    "- train model on all historical data\n",
    "    - use all reg season stats to predict winner in playoff games\n",
    "\n",
    "1. calculate each stat for each team in each game in each season\n",
    "    - decide how to calculate pace, momentum, and experience\n",
    "    - figure out where to get experience, size, and conference data\n",
    "2. create data.csv with each feature for each of 2 teams, home & away, with label W or L for that tourney game\n",
    "    - if that's not enough data, then we can train on reg season games too with an additional variable of num_games_played\n",
    "3. test feature importance\n",
    "4. test many models\n",
    "\n",
    "\n"
   ]
  },
  {
   "cell_type": "code",
   "execution_count": null,
   "metadata": {},
   "outputs": [],
   "source": []
  }
 ],
 "metadata": {
  "kernelspec": {
   "display_name": "Python 3",
   "language": "python",
   "name": "python3"
  },
  "language_info": {
   "name": "python",
   "version": "3.10.10"
  }
 },
 "nbformat": 4,
 "nbformat_minor": 2
}
